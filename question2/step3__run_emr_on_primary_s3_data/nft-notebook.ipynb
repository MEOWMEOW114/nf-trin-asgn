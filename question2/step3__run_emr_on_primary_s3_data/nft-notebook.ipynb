{
 "cells": [
  {
   "cell_type": "code",
   "execution_count": 4,
   "id": "fe979650",
   "metadata": {},
   "outputs": [
    {
     "data": {
      "application/vnd.jupyter.widget-view+json": {
       "model_id": "4482907b02714d5bb6907dad4cc3b1e6",
       "version_major": 2,
       "version_minor": 0
      },
      "text/plain": [
       "VBox()"
      ]
     },
     "metadata": {},
     "output_type": "display_data"
    },
    {
     "data": {
      "application/vnd.jupyter.widget-view+json": {
       "model_id": "",
       "version_major": 2,
       "version_minor": 0
      },
      "text/plain": [
       "FloatProgress(value=0.0, bar_style='info', description='Progress:', layout=Layout(height='25px', width='50%'),…"
      ]
     },
     "metadata": {},
     "output_type": "display_data"
    },
    {
     "name": "stdout",
     "output_type": "stream",
     "text": [
      "'2.4.8-amzn-0'"
     ]
    }
   ],
   "source": [
    "sc.version"
   ]
  },
  {
   "cell_type": "code",
   "execution_count": 5,
   "id": "766a5752",
   "metadata": {},
   "outputs": [
    {
     "data": {
      "application/vnd.jupyter.widget-view+json": {
       "model_id": "68ce4ddfee5c4feab4451bbb985a1c39",
       "version_major": 2,
       "version_minor": 0
      },
      "text/plain": [
       "VBox()"
      ]
     },
     "metadata": {},
     "output_type": "display_data"
    },
    {
     "data": {
      "application/vnd.jupyter.widget-view+json": {
       "model_id": "",
       "version_major": 2,
       "version_minor": 0
      },
      "text/plain": [
       "FloatProgress(value=0.0, bar_style='info', description='Progress:', layout=Layout(height='25px', width='50%'),…"
      ]
     },
     "metadata": {},
     "output_type": "display_data"
    },
    {
     "name": "stderr",
     "output_type": "stream",
     "text": [
      "An error was encountered:\n",
      "name 'SparkSession' is not defined\n",
      "Traceback (most recent call last):\n",
      "NameError: name 'SparkSession' is not defined\n",
      "\n"
     ]
    }
   ],
   "source": [
    "spark = SparkSession \\\n",
    "    .builder \\\n",
    "    .appName('question1') \\\n",
    "    .getOrCreate()"
   ]
  },
  {
   "cell_type": "code",
   "execution_count": 6,
   "id": "10f0fe50",
   "metadata": {},
   "outputs": [
    {
     "data": {
      "application/vnd.jupyter.widget-view+json": {
       "model_id": "24396f7e9fda407c8d098bf904ebe4de",
       "version_major": 2,
       "version_minor": 0
      },
      "text/plain": [
       "VBox()"
      ]
     },
     "metadata": {},
     "output_type": "display_data"
    },
    {
     "data": {
      "application/vnd.jupyter.widget-view+json": {
       "model_id": "",
       "version_major": 2,
       "version_minor": 0
      },
      "text/plain": [
       "FloatProgress(value=0.0, bar_style='info', description='Progress:', layout=Layout(height='25px', width='50%'),…"
      ]
     },
     "metadata": {},
     "output_type": "display_data"
    },
    {
     "name": "stdout",
     "output_type": "stream",
     "text": [
      "Pi is roughly 3.139920"
     ]
    }
   ],
   "source": [
    "import sys\n",
    "from random import random\n",
    "from operator import add\n",
    "\"\"\"\n",
    "    Usage: pi [partitions]\n",
    "\"\"\"\n",
    "partitions = 1\n",
    "n = 100000 * partitions\n",
    "def f(_):\n",
    "    x = random() * 2 - 1\n",
    "    y = random() * 2 - 1\n",
    "    return 1 if x ** 2 + y ** 2 <= 1 else 0\n",
    "count = spark.sparkContext.parallelize(range(1, n + 1), partitions).map(f).reduce(add)\n",
    "print(\"Pi is roughly %f\" % (4.0 * count/n))"
   ]
  },
  {
   "cell_type": "code",
   "execution_count": 8,
   "id": "474348fe",
   "metadata": {},
   "outputs": [
    {
     "data": {
      "application/vnd.jupyter.widget-view+json": {
       "model_id": "591b7859d4d5476e8fdba95426a0002f",
       "version_major": 2,
       "version_minor": 0
      },
      "text/plain": [
       "VBox()"
      ]
     },
     "metadata": {},
     "output_type": "display_data"
    },
    {
     "data": {
      "application/vnd.jupyter.widget-view+json": {
       "model_id": "",
       "version_major": 2,
       "version_minor": 0
      },
      "text/plain": [
       "FloatProgress(value=0.0, bar_style='info', description='Progress:', layout=Layout(height='25px', width='50%'),…"
      ]
     },
     "metadata": {},
     "output_type": "display_data"
    },
    {
     "name": "stdout",
     "output_type": "stream",
     "text": [
      "+---+--------------------+--------------------+--------------------+-------------------+--------------------+------------+-------------+-----------+---------+------------+\n",
      "|_c0|           Create At|               Title|             Company|           Location|      Salary Snippet|Salary Range|Salary Period|Salary From|Salary To|Salary Fixed|\n",
      "+---+--------------------+--------------------+--------------------+-------------------+--------------------+------------+-------------+-----------+---------+------------+\n",
      "|  0|2022-03-20 19:09:...|Client Success Ex...|Online Technical ...|      San Diego, CA|$60,000 - $62,000...|       range|       yearly|      60000|    62000|        null|\n",
      "|  1|2022-03-20 19:09:...|Call Center Super...|      Vector Careers|    East Peoria, IL|                null|        null|         null|       null|     null|        null|\n",
      "|  2|2022-03-20 19:09:...|Retail Sales Supe...|   Burlington Stores|               null|                null|        null|         null|       null|     null|        null|\n",
      "|  3|2022-03-20 19:09:...|Consumer Loan Sal...|   OneMain Financial|South Salt Lake, UT|                null|        null|         null|       null|     null|        null|\n",
      "|  4|2022-03-20 19:09:...|Part Time Bilingu...|             Oportun|               null|   $15 - $16 an hour|       range|       hourly|         15|       16|        null|\n",
      "|  5|2022-03-20 19:09:...|Outside Sales Bra...|  Sales Partnerships|               null|      $60,000 a year|       fixed|       yearly|       null|     null|       60000|\n",
      "|  6|2022-03-20 19:09:...|Retail Sales Stor...|   Cash America Pawn|               null|                null|        null|         null|       null|     null|        null|\n",
      "|  7|2022-03-20 19:09:...|   Call Center Rep 1|Arrowhead Credit ...|               null|                null|        null|         null|       null|     null|        null|\n",
      "|  8|2022-03-20 19:09:...|Sales Assistant M...|       Rent-A-Center|               null|$17.50 - $18.50 a...|       range|       hourly|      17.50|    18.50|        null|\n",
      "|  9|2022-03-20 19:09:...|Retail Sales Asso...|Premium Retail Se...|               null|   $12 - $15 an hour|       range|       hourly|         12|       15|        null|\n",
      "| 10|2022-03-20 19:09:...|T-Mobile Retail S...|T-Mobile ~ Exclus...|     Pleasanton, CA|                null|        null|         null|       null|     null|        null|\n",
      "| 11|2022-03-20 19:09:...|T-Mobile Sales Re...|T-Mobile - KCI Wi...|               null|$8.50 - $16.00 an...|       range|       hourly|       8.50|    16.00|        null|\n",
      "| 12|2022-03-20 19:09:...|Sales Associate |...|         KARM Stores|               null|   Up to $10 an hour|        upto|       hourly|       null|       10|        null|\n",
      "| 13|2022-03-20 19:09:...|Bilingual Sales A...|         LL Flooring|      Cupertino, CA|                null|        null|         null|       null|     null|        null|\n",
      "| 14|2022-03-20 19:09:...|Director of Sales...|Sage Meadow Middl...|               null|$80,000 - $85,000...|       range|       yearly|      80000|    85000|        null|\n",
      "| 15|2022-03-20 19:09:...|Regional Sales Ma...|Great Day Improve...|               null|$100,000 - $125,0...|       range|       yearly|     100000|   125000|        null|\n",
      "| 16|2022-03-20 19:09:...|Wholesale Bakery ...|     Imperial Pastry|               null|$55,000 - $65,000...|       range|       yearly|      55000|    65000|        null|\n",
      "| 17|2022-03-20 19:09:...|Sales and Client ...|PNC Financial Ser...|               null|                null|        null|         null|       null|     null|        null|\n",
      "| 18|2022-03-20 19:09:...|Inside Sales Repr...|          HorizonPSI|               null|$40,000 - $45,000...|       range|       yearly|      40000|    45000|        null|\n",
      "| 19|2022-03-20 19:09:...|Sales Support Spe...|Investments & Wea...|               null|$50,000 - $55,000...|       range|       yearly|      50000|    55000|        null|\n",
      "+---+--------------------+--------------------+--------------------+-------------------+--------------------+------------+-------------+-----------+---------+------------+\n",
      "only showing top 20 rows"
     ]
    }
   ],
   "source": [
    "dff = spark.read.options(header=True).csv(\"s3://ext-candidate-data-primary/raw/2021-08-28/\")\n",
    "dff.show()"
   ]
  },
  {
   "cell_type": "code",
   "execution_count": 15,
   "id": "fbe41d55",
   "metadata": {},
   "outputs": [
    {
     "data": {
      "application/vnd.jupyter.widget-view+json": {
       "model_id": "ef4a208d09394f9aa3eb45b572e87cea",
       "version_major": 2,
       "version_minor": 0
      },
      "text/plain": [
       "VBox()"
      ]
     },
     "metadata": {},
     "output_type": "display_data"
    },
    {
     "data": {
      "application/vnd.jupyter.widget-view+json": {
       "model_id": "",
       "version_major": 2,
       "version_minor": 0
      },
      "text/plain": [
       "FloatProgress(value=0.0, bar_style='info', description='Progress:', layout=Layout(height='25px', width='50%'),…"
      ]
     },
     "metadata": {},
     "output_type": "display_data"
    },
    {
     "name": "stdout",
     "output_type": "stream",
     "text": [
      "73230"
     ]
    }
   ],
   "source": [
    "dff.count()"
   ]
  },
  {
   "cell_type": "code",
   "execution_count": 10,
   "id": "bda1db1c",
   "metadata": {},
   "outputs": [
    {
     "data": {
      "application/vnd.jupyter.widget-view+json": {
       "model_id": "3a16d886dc66419c88736c15fda2abae",
       "version_major": 2,
       "version_minor": 0
      },
      "text/plain": [
       "VBox()"
      ]
     },
     "metadata": {},
     "output_type": "display_data"
    },
    {
     "data": {
      "application/vnd.jupyter.widget-view+json": {
       "model_id": "",
       "version_major": 2,
       "version_minor": 0
      },
      "text/plain": [
       "FloatProgress(value=0.0, bar_style='info', description='Progress:', layout=Layout(height='25px', width='50%'),…"
      ]
     },
     "metadata": {},
     "output_type": "display_data"
    },
    {
     "name": "stdout",
     "output_type": "stream",
     "text": [
      "root\n",
      " |-- _c0: string (nullable = true)\n",
      " |-- Create At: string (nullable = true)\n",
      " |-- Title: string (nullable = true)\n",
      " |-- Company: string (nullable = true)\n",
      " |-- Location: string (nullable = true)\n",
      " |-- Salary Snippet: string (nullable = true)\n",
      " |-- Salary Range: string (nullable = true)\n",
      " |-- Salary Period: string (nullable = true)\n",
      " |-- Salary From: string (nullable = true)\n",
      " |-- Salary To: string (nullable = true)\n",
      " |-- Salary Fixed: string (nullable = true)"
     ]
    }
   ],
   "source": [
    "dff.printSchema()"
   ]
  },
  {
   "cell_type": "code",
   "execution_count": 14,
   "id": "dbe7be8b",
   "metadata": {},
   "outputs": [
    {
     "data": {
      "application/vnd.jupyter.widget-view+json": {
       "model_id": "77911c106982496a86dceee97a273c2c",
       "version_major": 2,
       "version_minor": 0
      },
      "text/plain": [
       "VBox()"
      ]
     },
     "metadata": {},
     "output_type": "display_data"
    },
    {
     "data": {
      "application/vnd.jupyter.widget-view+json": {
       "model_id": "",
       "version_major": 2,
       "version_minor": 0
      },
      "text/plain": [
       "FloatProgress(value=0.0, bar_style='info', description='Progress:', layout=Layout(height='25px', width='50%'),…"
      ]
     },
     "metadata": {},
     "output_type": "display_data"
    },
    {
     "name": "stdout",
     "output_type": "stream",
     "text": [
      "+--------------------+-----+\n",
      "|             Company|count|\n",
      "+--------------------+-----+\n",
      "|Always Home Nursi...|    1|\n",
      "|     Allied Partners|    3|\n",
      "| TWO MEN AND A TRUCK|    5|\n",
      "|              Avolta|   13|\n",
      "|Vertex Insurance ...|   21|\n",
      "|Arrowhead Credit ...|    3|\n",
      "|     Real Broker LLC|    7|\n",
      "|Barrier Island Tr...|   76|\n",
      "|Mei Rigging and C...|   16|\n",
      "|          Oregon Tek|    4|\n",
      "|Point Digital Fin...|   11|\n",
      "|   The Jewelry Vault|   13|\n",
      "|Utopia Management...|    5|\n",
      "|     Elwood Staffing|   10|\n",
      "|      America's Best|   26|\n",
      "|       Cowboy Toyota|    5|\n",
      "|Williams Painting...|    2|\n",
      "| Hungry Howies Pizza|    3|\n",
      "|Hall's Culligan W...|   10|\n",
      "|            True Pwr|   20|\n",
      "+--------------------+-----+\n",
      "only showing top 20 rows"
     ]
    }
   ],
   "source": [
    "df_group = dff.groupBy(\"Company\").count() \\\n",
    "  .show()"
   ]
  },
  {
   "cell_type": "code",
   "execution_count": 16,
   "id": "33474821",
   "metadata": {},
   "outputs": [
    {
     "data": {
      "application/vnd.jupyter.widget-view+json": {
       "model_id": "9edeefbc049741a2bdf2e83501e30931",
       "version_major": 2,
       "version_minor": 0
      },
      "text/plain": [
       "VBox()"
      ]
     },
     "metadata": {},
     "output_type": "display_data"
    },
    {
     "data": {
      "application/vnd.jupyter.widget-view+json": {
       "model_id": "",
       "version_major": 2,
       "version_minor": 0
      },
      "text/plain": [
       "FloatProgress(value=0.0, bar_style='info', description='Progress:', layout=Layout(height='25px', width='50%'),…"
      ]
     },
     "metadata": {},
     "output_type": "display_data"
    }
   ],
   "source": [
    "dff.write.option(\"header\", \"true\").mode(\"overwrite\").csv(\"s3://ext-candidate-data-transformed/concat/2021-08-28/output\")"
   ]
  },
  {
   "cell_type": "code",
   "execution_count": null,
   "id": "e4eab99c",
   "metadata": {},
   "outputs": [],
   "source": []
  }
 ],
 "metadata": {
  "kernelspec": {
   "display_name": "PySpark",
   "language": "",
   "name": "pysparkkernel"
  },
  "language_info": {
   "codemirror_mode": {
    "name": "python",
    "version": 3
   },
   "mimetype": "text/x-python",
   "name": "pyspark",
   "pygments_lexer": "python3"
  }
 },
 "nbformat": 4,
 "nbformat_minor": 5
}
